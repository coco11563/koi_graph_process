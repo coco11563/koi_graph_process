{
 "cells": [
  {
   "cell_type": "code",
   "execution_count": 1,
   "metadata": {
    "collapsed": true
   },
   "outputs": [],
   "source": [
    "import importlib"
   ]
  },
  {
   "cell_type": "code",
   "execution_count": 2,
   "outputs": [],
   "source": [
    "import gc\n",
    "import sys\n",
    "import time\n",
    "sys.path.append(\"/home/shaow/jupyter_base/pycharm_001\")\n",
    "base = \"/home/shaow/jupyter_base/pycharm_001\"\n",
    "import torch\n",
    "import experiment.model.dglRandomModel as models\n",
    "import graph_process as G\n",
    "import obj.GraphBase as GB\n",
    "import utils"
   ],
   "metadata": {
    "collapsed": false,
    "pycharm": {
     "name": "#%%\n"
    }
   }
  },
  {
   "cell_type": "code",
   "execution_count": 3,
   "outputs": [
    {
     "name": "stdout",
     "output_type": "stream",
     "text": [
      "8.0.19\n",
      "10\n",
      "socket 10.0.82.237:3306\n",
      "done init 3564 nodes from apply id\n",
      "244800\n",
      "done init 593205 nodes from application\n"
     ]
    }
   ],
   "source": [
    "appid_edge, appid_ros_edge, appid_app_edge, app_ros_edge, app_kw_edge, \\\n",
    "           id_index_map ,index_id_map, index_keyword_map, index_ros_map, index_app_map , \\\n",
    "           app_dict = G.process_year_graph(2019)\n",
    "\n",
    "\n",
    "\n",
    "gb_2019 = GB.GraphBase(appid_edge, appid_ros_edge, appid_app_edge, app_ros_edge, app_kw_edge,\n",
    "           id_index_map, index_id_map, index_ros_map, index_app_map, index_keyword_map ,\n",
    "           app_dict)\n"
   ],
   "metadata": {
    "collapsed": false,
    "pycharm": {
     "name": "#%%\n"
    }
   }
  },
  {
   "cell_type": "code",
   "execution_count": 4,
   "outputs": [
    {
     "name": "stdout",
     "output_type": "stream",
     "text": [
      "(2, 229)\n",
      "<class 'int'>\n",
      "<class 'numpy.int64'>\n",
      "(2, 5652)\n",
      "<class 'int'>\n",
      "<class 'numpy.int64'>\n",
      "(2, 5652)\n",
      "<class 'int'>\n",
      "<class 'numpy.int64'>\n",
      "(2, 25724)\n",
      "<class 'int'>\n",
      "<class 'numpy.int64'>\n"
     ]
    }
   ],
   "source": [
    "# importlib.reload(G)\n",
    "gb = gb_2019.get_split_appid_map('F01')\n",
    "t_data = G.get_graph_edges(gb)"
   ],
   "metadata": {
    "collapsed": false,
    "pycharm": {
     "name": "#%%\n"
    }
   }
  },
  {
   "cell_type": "code",
   "execution_count": 5,
   "outputs": [
    {
     "name": "stdout",
     "output_type": "stream",
     "text": [
      "(3738, 3)\n",
      "(29805, 3)\n",
      "(3714, 3)\n",
      "Test graph:\n"
     ]
    },
    {
     "name": "stderr",
     "output_type": "stream",
     "text": [
      "/home/shaow/jupyter_base/pycharm_001/utils.py:130: RuntimeWarning: divide by zero encountered in true_divide\n",
      "  norm = 1.0 / in_deg\n"
     ]
    }
   ],
   "source": [
    "train_data = t_data.train\n",
    "valid_data = t_data.validation\n",
    "test_data = t_data.test\n",
    "# num_rels = t_data.num_rels\n",
    "num_nodes = gb.node_count()\n",
    "num_rels = gb.rel_count()\n",
    "\n",
    "print(test_data.shape)\n",
    "print(train_data.shape)\n",
    "print(valid_data.shape)\n",
    "test_graph, test_rel, test_norm = utils.build_test_graph(\n",
    "        num_nodes, num_rels, train_data)\n",
    "test_deg = test_graph.in_degrees(\n",
    "            range(test_graph.number_of_nodes())).float().view(-1,1)\n",
    "test_node_id = torch.arange(0, num_nodes, dtype=torch.long).view(-1, 1)\n",
    "test_rel = torch.from_numpy(test_rel)\n",
    "test_norm = models.node_norm_to_edge_norm(test_graph, torch.from_numpy(test_norm).view(-1, 1))\n",
    "\n",
    "test_data = torch.from_numpy(test_data)\n",
    "use_cuda = torch.cuda.is_available()"
   ],
   "metadata": {
    "collapsed": false,
    "pycharm": {
     "name": "#%%\n"
    }
   }
  },
  {
   "cell_type": "code",
   "execution_count": 6,
   "outputs": [],
   "source": [
    "if use_cuda:\n",
    "    torch.cuda.set_device('cuda:0')"
   ],
   "metadata": {
    "collapsed": false,
    "pycharm": {
     "name": "#%%\n"
    }
   }
  },
  {
   "cell_type": "code",
   "execution_count": 7,
   "outputs": [],
   "source": [
    "model = models.RandomLinkPredict(num_nodes, 256, num_rels)"
   ],
   "metadata": {
    "collapsed": false,
    "pycharm": {
     "name": "#%%\n"
    }
   }
  },
  {
   "cell_type": "code",
   "execution_count": 8,
   "outputs": [
    {
     "name": "stdout",
     "output_type": "stream",
     "text": [
      "RandomLinkPredict(\n",
      "  (emb): EmbeddingLayer(\n",
      "    (embedding): Embedding(20518, 256)\n",
      "  )\n",
      ")\n"
     ]
    }
   ],
   "source": [
    "print(model)\n",
    "\n"
   ],
   "metadata": {
    "collapsed": false,
    "pycharm": {
     "name": "#%%\n"
    }
   }
  },
  {
   "cell_type": "code",
   "execution_count": 9,
   "outputs": [
    {
     "name": "stdout",
     "output_type": "stream",
     "text": [
      "start training...\n"
     ]
    }
   ],
   "source": [
    "if use_cuda:\n",
    "    model.cuda()\n",
    "\n",
    "# build adj list and calculate degrees for sampling\n",
    "adj_list, degrees = utils.get_adj_and_degrees(num_nodes, train_data)\n",
    "\n",
    "# optimizer\n",
    "optimizer = torch.optim.Adam(model.parameters(), lr=0.01)\n",
    "\n",
    "model_state_file = 'model_state.pth'\n",
    "forward_time = []\n",
    "backward_time = []\n",
    "\n",
    "# training loop\n",
    "print(\"start training...\")\n",
    "\n",
    "epoch = 0\n",
    "best_mrr = 0"
   ],
   "metadata": {
    "collapsed": false,
    "pycharm": {
     "name": "#%%\n"
    }
   }
  },
  {
   "cell_type": "code",
   "execution_count": 13,
   "outputs": [
    {
     "name": "stdout",
     "output_type": "stream",
     "text": [
      "start eval\n",
      "DGLGraph(num_nodes=20518, num_edges=59610,\n",
      "         ndata_schemes={}\n",
      "         edata_schemes={})\n",
      "batch 0 / 8\n",
      "batch 1 / 8\n",
      "batch 2 / 8\n",
      "batch 3 / 8\n",
      "batch 4 / 8\n",
      "batch 5 / 8\n",
      "batch 6 / 8\n",
      "batch 7 / 8\n",
      "batch 0 / 8\n",
      "batch 1 / 8\n",
      "batch 2 / 8\n",
      "batch 3 / 8\n",
      "batch 4 / 8\n",
      "batch 5 / 8\n",
      "batch 6 / 8\n",
      "batch 7 / 8\n",
      "MRR (raw): 0.000679\n",
      "Hits (raw) @ 1: 0.000134\n",
      "Hits (raw) @ 3: 0.000401\n",
      "Hits (raw) @ 10: 0.000803\n",
      "0.0006786519079469144\n"
     ]
    }
   ],
   "source": [
    "if use_cuda :\n",
    "    test_graph = test_graph.to('cuda:0')\n",
    "    test_node_id = test_node_id.cuda()\n",
    "    test_rel = test_rel.cuda()\n",
    "    test_norm = test_norm.cuda()\n",
    "    test_data = test_data.cuda()\n",
    "model.eval()\n",
    "print(\"start eval\")\n",
    "print(test_graph)\n",
    "        # if use_cuda:\n",
    "        #     test_graph = test_graph.to('cuda:0')\n",
    "        #     test_node_id, test_rel, test_norm = test_node_id.cuda(), test_rel.cuda(), test_norm.cuda()\n",
    "        # embed = model.embedding.embedding\n",
    "        # embed = embed(test_node_id)\n",
    "embed = model(test_graph, test_node_id, test_rel, test_norm)\n",
    "        # torch.cuda.empty_cache()\n",
    "        # gc.collect()\n",
    "        # args.eval_batch_size = 500\n",
    "mrr = utils.calc_mrr(embed, model.w_relation, test_data,\n",
    "                             hits=[1, 3, 10], eval_bz=500)\n",
    "print(mrr)"
   ],
   "metadata": {
    "collapsed": false,
    "pycharm": {
     "name": "#%%\n"
    }
   }
  },
  {
   "cell_type": "code",
   "execution_count": null,
   "outputs": [],
   "source": [
    "\n"
   ],
   "metadata": {
    "collapsed": false,
    "pycharm": {
     "name": "#%%\n"
    }
   }
  }
 ],
 "metadata": {
  "kernelspec": {
   "display_name": "Python 3",
   "language": "python",
   "name": "python3"
  },
  "language_info": {
   "codemirror_mode": {
    "name": "ipython",
    "version": 2
   },
   "file_extension": ".py",
   "mimetype": "text/x-python",
   "name": "python",
   "nbconvert_exporter": "python",
   "pygments_lexer": "ipython2",
   "version": "2.7.6"
  }
 },
 "nbformat": 4,
 "nbformat_minor": 0
}