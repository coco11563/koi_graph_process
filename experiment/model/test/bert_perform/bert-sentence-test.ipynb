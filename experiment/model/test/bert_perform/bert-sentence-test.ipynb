{
 "cells": [
  {
   "cell_type": "code",
   "execution_count": 23,
   "metadata": {
    "collapsed": true,
    "pycharm": {
     "name": "#%%\n"
    }
   },
   "outputs": [],
   "source": [
    "#1 init bert\n",
    "from bert_serving.client import BertClient\n",
    "\n",
    "bs = BertClient(ip = '10.0.82.237', port=2345)"
   ]
  },
  {
   "cell_type": "code",
   "execution_count": 4,
   "outputs": [
    {
     "name": "stderr",
     "output_type": "stream",
     "text": [
      "Exception ignored in: <function Context.__del__ at 0x7f969baf6e60>\n",
      "Traceback (most recent call last):\n",
      "  File \"/root/miniconda3/envs/shaow/lib/python3.7/site-packages/zmq/sugar/context.py\", line 50, in __del__\n",
      "    self.term()\n",
      "  File \"zmq/backend/cython/context.pyx\", line 91, in zmq.backend.cython.context.Context.term\n",
      "  File \"zmq/backend/cython/checkrc.pxd\", line 12, in zmq.backend.cython.checkrc._check_rc\n",
      "KeyboardInterrupt\n"
     ]
    },
    {
     "name": "stdout",
     "output_type": "stream",
     "text": [
      "8.0.19\n",
      "10\n",
      "socket 10.0.82.237:3306\n"
     ]
    }
   ],
   "source": [
    "#2 init corpus base\n",
    "import sys\n",
    "sys.path.append(\"/home/shaow/jupyter_base/pycharm_001\")\n",
    "base = \"/home/shaow/jupyter_base/pycharm_001\"\n",
    "import experiment.model.test.bert_perform.plot_ as plot\n",
    "import importlib\n",
    "import pymysql.cursors\n",
    "# year_dict = {str(2017): base + \"/data/2017_model\",str(2018): base + \"/data/2018_model\",str(2019): base +  \"/data/2019_model\"}\n",
    "import mysql_utils as mysql\n",
    "# importlib.reload(mysql)\n",
    "# conn = mysql.initSQLConn()\n",
    "import graph_process as G\n",
    "import obj.GraphBase as GB"
   ],
   "metadata": {
    "collapsed": false,
    "pycharm": {
     "name": "#%%\n"
    }
   }
  },
  {
   "cell_type": "code",
   "execution_count": 5,
   "outputs": [
    {
     "name": "stdout",
     "output_type": "stream",
     "text": [
      "8.0.19\n",
      "10\n",
      "socket 10.0.82.237:3306\n",
      "done init 3564 nodes from apply id\n",
      "244800\n",
      "done init 593205 nodes from application\n"
     ]
    }
   ],
   "source": [
    "\n",
    "appid_edge, appid_ros_edge, appid_app_edge, app_ros_edge, app_kw_edge, \\\n",
    "           id_index_map ,index_id_map, index_keyword_map, index_ros_map, index_app_map , \\\n",
    "           app_dict = G.process_year_graph(2019)"
   ],
   "metadata": {
    "collapsed": false,
    "pycharm": {
     "name": "#%%\n"
    }
   }
  },
  {
   "cell_type": "code",
   "execution_count": 6,
   "outputs": [],
   "source": [
    "import torch as torch"
   ],
   "metadata": {
    "collapsed": false,
    "pycharm": {
     "name": "#%%\n"
    }
   }
  },
  {
   "cell_type": "code",
   "execution_count": 21,
   "outputs": [
    {
     "name": "stderr",
     "output_type": "stream",
     "text": [
      "UsageError: Line magic function `%%%` not found.\n"
     ]
    }
   ],
   "source": [
    "def get_none_empty_ind (index_keyword_map) :\n",
    "    lis = []\n",
    "    for ikp in index_keyword_map.items() :\n",
    "        if ikp[1] == '' or ikp[1] == '\\t':\n",
    "            print(ikp[0], ikp[1])\n",
    "            continue\n",
    "        else :\n",
    "            lis.append(ikp[0])\n",
    "    return lis"
   ],
   "metadata": {
    "collapsed": false,
    "pycharm": {
     "name": "#%%\n"
    }
   }
  },
  {
   "cell_type": "code",
   "execution_count": 24,
   "outputs": [
    {
     "name": "stdout",
     "output_type": "stream",
     "text": [
      "62091 \n",
      "115259 \t\n",
      "torch.Size([344524])\n"
     ]
    },
    {
     "data": {
      "text/plain": "torch.Size([344524, 768])"
     },
     "execution_count": 24,
     "metadata": {},
     "output_type": "execute_result"
    }
   ],
   "source": [
    "ind = torch.LongTensor(get_none_empty_ind(index_keyword_map))\n",
    "print(ind.shape)\n",
    "# corpus_array = [index_keyword_map[int(i)] for i in ind]\n",
    "torch.FloatTensor(bs.encode([index_keyword_map[int(i)] for i in ind])).shape\n",
    "# i = embeding_corpus(index_keyword_map)"
   ],
   "metadata": {
    "collapsed": false,
    "pycharm": {
     "name": "#%%\n"
    }
   }
  },
  {
   "cell_type": "code",
   "execution_count": null,
   "outputs": [],
   "source": [
    " # if pretrain_keywords :\n",
    " #            ind = torch.LongTensor(list(i2w_dict.keys()))\n",
    " #            self.embedding.weight[ind] = torch.FloatTensor(bs.encode([i2w_dict[int(i)] for i in ind]))\n",
    " #            emb = self.embedding.weight.data\n",
    " #            self.embedding.weight = nn.Parameter(emb)\n",
    " #        if pretrain_ros :\n",
    " #            ind = torch.LongTensor(list(i2r_dict.keys()))\n",
    " #            self.embedding.weight[ind] = torch.FloatTensor(bs.encode([i2r_dict[int(i)] for i in ind]))\n",
    " #            emb = self.embedding.weight.data\n",
    " #            self.embedding.weight = nn.Parameter(emb)\n",
    " #        if pretrain_application :\n",
    " #            ind = torch.LongTensor(list(i2r_dict.keys()))\n",
    " #            self.embedding.weight[ind] = torch.FloatTensor(bs.encode([app_dict[i2a_dict[int(i)]].abstract for i in ind]))\n",
    " #            emb = self.embedding.weight.data\n",
    " #            self.embedding.weight = nn.Parameter(emb)"
   ],
   "metadata": {
    "collapsed": false,
    "pycharm": {
     "name": "#%%\n"
    }
   }
  }
 ],
 "metadata": {
  "kernelspec": {
   "display_name": "Python 3",
   "language": "python",
   "name": "python3"
  },
  "language_info": {
   "codemirror_mode": {
    "name": "ipython",
    "version": 2
   },
   "file_extension": ".py",
   "mimetype": "text/x-python",
   "name": "python",
   "nbconvert_exporter": "python",
   "pygments_lexer": "ipython2",
   "version": "2.7.6"
  }
 },
 "nbformat": 4,
 "nbformat_minor": 0
}