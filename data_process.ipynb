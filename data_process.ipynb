{
 "cells": [
  {
   "cell_type": "code",
   "execution_count": 2,
   "outputs": [],
   "source": [
    "import sys\n",
    "import torch as torch\n",
    "sys.path.append(\"/home/shaow/jupyter_base/pycharm_001\")\n",
    "base = \"/home/shaow/jupyter_base/pycharm_001\"\n",
    "import graph_process as G\n",
    "import keyword_objects as kw\n",
    "import mysql_utils as mysql\n",
    "import importlib\n",
    "import obj.GraphBase as GB\n",
    "import model.gcn as model\n",
    "import numpy as np"
   ],
   "metadata": {
    "collapsed": false,
    "pycharm": {
     "name": "#%%\n"
    }
   }
  },
  {
   "cell_type": "code",
   "execution_count": 22,
   "outputs": [
    {
     "data": {
      "text/plain": "<module 'model.gcn' from '/home/shaow/jupyter_base/pycharm_001/model/gcn.py'>"
     },
     "execution_count": 22,
     "metadata": {},
     "output_type": "execute_result"
    }
   ],
   "source": [
    "# re-import kw for new feature\n",
    "importlib.reload(mysql)\n",
    "importlib.reload(kw)\n",
    "importlib.reload(G)\n",
    "importlib.reload(GB)\n",
    "importlib.reload(model)"
   ],
   "metadata": {
    "collapsed": false,
    "pycharm": {
     "name": "#%%\n"
    }
   }
  },
  {
   "cell_type": "code",
   "execution_count": 3,
   "outputs": [
    {
     "name": "stdout",
     "output_type": "stream",
     "text": [
      "8.0.19\n",
      "10\n",
      "socket 10.0.82.237:3306\n",
      "done init 3564 nodes from apply id\n",
      "244800\n",
      "done init 593205 nodes from application\n"
     ]
    }
   ],
   "source": [
    "appid_edge, appid_ros_edge, appid_app_edge, app_ros_edge, app_kw_edge, \\\n",
    "           id_index_map ,index_id_map, index_keyword_map, index_ros_map, index_app_map , \\\n",
    "           app_dict = G.process_year_graph(2019)"
   ],
   "metadata": {
    "collapsed": false,
    "pycharm": {
     "name": "#%%\n"
    }
   }
  },
  {
   "cell_type": "code",
   "execution_count": 4,
   "outputs": [],
   "source": [
    "gb_2019 = GB.GraphBase(appid_edge, appid_ros_edge, appid_app_edge, app_ros_edge, app_kw_edge,\n",
    "           id_index_map, index_id_map, index_ros_map, index_app_map, index_keyword_map ,\n",
    "           app_dict)"
   ],
   "metadata": {
    "collapsed": false,
    "pycharm": {
     "name": "#%%\n"
    }
   }
  },
  {
   "cell_type": "code",
   "execution_count": 5,
   "outputs": [
    {
     "name": "stdout",
     "output_type": "stream",
     "text": [
      "this scholar graph contains \n",
      "apply_code : 3565\n",
      "ros : 12025\n",
      "application : 233090\n",
      "keyword : 344526\n",
      "\n",
      "1085520\n"
     ]
    }
   ],
   "source": [
    "print(gb_2019.info())\n",
    "print(len(app_kw_edge))"
   ],
   "metadata": {
    "collapsed": false,
    "pycharm": {
     "name": "#%%\n"
    }
   }
  },
  {
   "cell_type": "code",
   "execution_count": 26,
   "outputs": [],
   "source": [
    "A_gb_2019 = gb_2019.get_split_appid_map('A', recursive=True)\n",
    "B_gb_2019 = gb_2019.get_split_appid_map('B', recursive=True)\n",
    "C_gb_2019 = gb_2019.get_split_appid_map('C', recursive=True)\n",
    "D_gb_2019 = gb_2019.get_split_appid_map('D', recursive=True)\n",
    "E_gb_2019 = gb_2019.get_split_appid_map('E', recursive=True)\n",
    "F_gb_2019 = gb_2019.get_split_appid_map('F', recursive=True)\n",
    "G_gb_2019 = gb_2019.get_split_appid_map('G', recursive=True)\n",
    "H_gb_2019 = gb_2019.get_split_appid_map('H', recursive=True)"
   ],
   "metadata": {
    "collapsed": false,
    "pycharm": {
     "name": "#%%\n"
    }
   }
  },
  {
   "cell_type": "code",
   "execution_count": 30,
   "outputs": [
    {
     "name": "stdout",
     "output_type": "stream",
     "text": [
      "this scholar graph contains \n",
      "apply_code : 321\n",
      "ros : 1159\n",
      "application : 16467\n",
      "keyword : 35431\n",
      "\n",
      "this scholar graph contains \n",
      "apply_code : 397\n",
      "ros : 541\n",
      "application : 15393\n",
      "keyword : 26954\n",
      "\n",
      "this scholar graph contains \n",
      "apply_code : 860\n",
      "ros : 2356\n",
      "application : 34706\n",
      "keyword : 50082\n",
      "\n",
      "this scholar graph contains \n",
      "apply_code : 168\n",
      "ros : 1153\n",
      "application : 18399\n",
      "keyword : 41727\n",
      "\n",
      "this scholar graph contains \n",
      "apply_code : 435\n",
      "ros : 1880\n",
      "application : 40272\n",
      "keyword : 80639\n",
      "\n",
      "this scholar graph contains \n",
      "apply_code : 796\n",
      "ros : 2734\n",
      "application : 24467\n",
      "keyword : 51181\n",
      "\n",
      "this scholar graph contains \n",
      "apply_code : 108\n",
      "ros : 643\n",
      "application : 12187\n",
      "keyword : 25207\n",
      "\n",
      "this scholar graph contains \n",
      "apply_code : 459\n",
      "ros : 1704\n",
      "application : 71199\n",
      "keyword : 93168\n",
      "\n"
     ]
    }
   ],
   "source": [
    "print(A_gb_2019.info())\n",
    "print(B_gb_2019.info())\n",
    "print(C_gb_2019.info())\n",
    "print(D_gb_2019.info())\n",
    "print(E_gb_2019.info())\n",
    "print(F_gb_2019.info())\n",
    "print(G_gb_2019.info())\n",
    "print(H_gb_2019.info())\n",
    "# print(np.array(A_gb_2019.are)[0])"
   ],
   "metadata": {
    "collapsed": false,
    "pycharm": {
     "name": "#%%\n"
    }
   }
  },
  {
   "cell_type": "code",
   "execution_count": 32,
   "outputs": [
    {
     "data": {
      "text/plain": "1"
     },
     "execution_count": 32,
     "metadata": {},
     "output_type": "execute_result"
    }
   ],
   "source": [
    "gb_2019.id_index_map['E']\n",
    "# base_gb , edge, label = A_gb_2019.negative_test_sampling_are()"
   ],
   "metadata": {
    "collapsed": false,
    "pycharm": {
     "name": "#%%\n"
    }
   }
  },
  {
   "cell_type": "code",
   "execution_count": 29,
   "outputs": [
    {
     "data": {
      "text/plain": "False"
     },
     "execution_count": 29,
     "metadata": {},
     "output_type": "execute_result"
    }
   ],
   "source": [
    "gb_2019.id_index_map['E'] == gb_2019.id_index_map['root']\n",
    "# print(edge[2], label[2])\n"
   ],
   "metadata": {
    "collapsed": false,
    "pycharm": {
     "name": "#%%\n"
    }
   }
  },
  {
   "cell_type": "code",
   "execution_count": 9,
   "outputs": [
    {
     "name": "stdout",
     "output_type": "stream",
     "text": [
      "start training...\n"
     ]
    }
   ],
   "source": [
    "device = 'cuda:0'\n",
    "use_cuda = torch.cuda.is_available()\n",
    "if use_cuda:\n",
    "    torch.cuda.set_device(device)\n",
    "model_state_file = 'model_state.pth'\n",
    "forward_time = []\n",
    "backward_time = []\n",
    "lp_model = model.LinkPredict(A_gb_2019.node_count(),\n",
    "                        256,\n",
    "                        5,\n",
    "                        rel_dict=A_gb_2019.rel_dict,\n",
    "                        num_bases=128, #??? default = 100\n",
    "                        num_hidden_layers=2,\n",
    "                        dropout=0.2,\n",
    "                        use_cuda=use_cuda,\n",
    "                        reg_param=0.01)\n",
    "optimizer = torch.optim.Adam(lp_model.parameters(), lr=0.01)\n",
    "import time as time\n",
    "print(\"start training...\")\n",
    "epoch = 0\n",
    "best_mrr = 0\n",
    "graph_base = A_gb_2019\n",
    "grade_norm = 1.0\n",
    "if use_cuda :\n",
    "    lp_model.cuda()"
   ],
   "metadata": {
    "collapsed": false,
    "pycharm": {
     "name": "#%%\n"
    }
   }
  },
  {
   "cell_type": "code",
   "execution_count": 13,
   "outputs": [
    {
     "name": "stdout",
     "output_type": "stream",
     "text": [
      "53378\n"
     ]
    }
   ],
   "source": [
    "print(A_gb_2019.node_count())"
   ],
   "metadata": {
    "collapsed": false,
    "pycharm": {
     "name": "#%%\n"
    }
   }
  },
  {
   "cell_type": "code",
   "execution_count": 11,
   "outputs": [
    {
     "ename": "RuntimeError",
     "evalue": "CUDA out of memory. Tried to allocate 2.01 GiB (GPU 0; 31.72 GiB total capacity; 29.46 GiB already allocated; 1.21 GiB free; 29.50 GiB reserved in total by PyTorch)",
     "output_type": "error",
     "traceback": [
      "\u001B[0;31m---------------------------------------------------------------------------\u001B[0m",
      "\u001B[0;31mRuntimeError\u001B[0m                              Traceback (most recent call last)",
      "\u001B[0;32m<ipython-input-11-50208e347f97>\u001B[0m in \u001B[0;36m<module>\u001B[0;34m\u001B[0m\n\u001B[1;32m     27\u001B[0m \u001B[0;34m\u001B[0m\u001B[0m\n\u001B[1;32m     28\u001B[0m     \u001B[0mt0\u001B[0m \u001B[0;34m=\u001B[0m \u001B[0mtime\u001B[0m\u001B[0;34m.\u001B[0m\u001B[0mtime\u001B[0m\u001B[0;34m(\u001B[0m\u001B[0;34m)\u001B[0m\u001B[0;34m\u001B[0m\u001B[0;34m\u001B[0m\u001B[0m\n\u001B[0;32m---> 29\u001B[0;31m     \u001B[0membed\u001B[0m \u001B[0;34m=\u001B[0m \u001B[0mlp_model\u001B[0m\u001B[0;34m(\u001B[0m\u001B[0mg\u001B[0m\u001B[0;34m,\u001B[0m \u001B[0mtorch\u001B[0m\u001B[0;34m.\u001B[0m\u001B[0mLongTensor\u001B[0m\u001B[0;34m(\u001B[0m\u001B[0mrange\u001B[0m\u001B[0;34m(\u001B[0m\u001B[0msam_gb\u001B[0m\u001B[0;34m.\u001B[0m\u001B[0mnode_count\u001B[0m\u001B[0;34m(\u001B[0m\u001B[0;34m)\u001B[0m\u001B[0;34m)\u001B[0m\u001B[0;34m)\u001B[0m\u001B[0;34m.\u001B[0m\u001B[0mcuda\u001B[0m\u001B[0;34m(\u001B[0m\u001B[0;34m)\u001B[0m\u001B[0;34m)\u001B[0m\u001B[0;34m\u001B[0m\u001B[0;34m\u001B[0m\u001B[0m\n\u001B[0m\u001B[1;32m     30\u001B[0m     \u001B[0mloss\u001B[0m \u001B[0;34m=\u001B[0m \u001B[0mlp_model\u001B[0m\u001B[0;34m.\u001B[0m\u001B[0mget_loss\u001B[0m\u001B[0;34m(\u001B[0m\u001B[0mg\u001B[0m\u001B[0;34m,\u001B[0m \u001B[0membed\u001B[0m\u001B[0;34m,\u001B[0m \u001B[0mneg_sample\u001B[0m\u001B[0;34m,\u001B[0m \u001B[0mlabel\u001B[0m\u001B[0;34m)\u001B[0m\u001B[0;34m\u001B[0m\u001B[0;34m\u001B[0m\u001B[0m\n\u001B[1;32m     31\u001B[0m     \u001B[0mt1\u001B[0m \u001B[0;34m=\u001B[0m \u001B[0mtime\u001B[0m\u001B[0;34m.\u001B[0m\u001B[0mtime\u001B[0m\u001B[0;34m(\u001B[0m\u001B[0;34m)\u001B[0m\u001B[0;34m\u001B[0m\u001B[0;34m\u001B[0m\u001B[0m\n",
      "\u001B[0;32m~/.conda/envs/shaow/lib/python3.7/site-packages/torch/nn/modules/module.py\u001B[0m in \u001B[0;36m__call__\u001B[0;34m(self, *input, **kwargs)\u001B[0m\n\u001B[1;32m    530\u001B[0m             \u001B[0mresult\u001B[0m \u001B[0;34m=\u001B[0m \u001B[0mself\u001B[0m\u001B[0;34m.\u001B[0m\u001B[0m_slow_forward\u001B[0m\u001B[0;34m(\u001B[0m\u001B[0;34m*\u001B[0m\u001B[0minput\u001B[0m\u001B[0;34m,\u001B[0m \u001B[0;34m**\u001B[0m\u001B[0mkwargs\u001B[0m\u001B[0;34m)\u001B[0m\u001B[0;34m\u001B[0m\u001B[0;34m\u001B[0m\u001B[0m\n\u001B[1;32m    531\u001B[0m         \u001B[0;32melse\u001B[0m\u001B[0;34m:\u001B[0m\u001B[0;34m\u001B[0m\u001B[0;34m\u001B[0m\u001B[0m\n\u001B[0;32m--> 532\u001B[0;31m             \u001B[0mresult\u001B[0m \u001B[0;34m=\u001B[0m \u001B[0mself\u001B[0m\u001B[0;34m.\u001B[0m\u001B[0mforward\u001B[0m\u001B[0;34m(\u001B[0m\u001B[0;34m*\u001B[0m\u001B[0minput\u001B[0m\u001B[0;34m,\u001B[0m \u001B[0;34m**\u001B[0m\u001B[0mkwargs\u001B[0m\u001B[0;34m)\u001B[0m\u001B[0;34m\u001B[0m\u001B[0;34m\u001B[0m\u001B[0m\n\u001B[0m\u001B[1;32m    533\u001B[0m         \u001B[0;32mfor\u001B[0m \u001B[0mhook\u001B[0m \u001B[0;32min\u001B[0m \u001B[0mself\u001B[0m\u001B[0;34m.\u001B[0m\u001B[0m_forward_hooks\u001B[0m\u001B[0;34m.\u001B[0m\u001B[0mvalues\u001B[0m\u001B[0;34m(\u001B[0m\u001B[0;34m)\u001B[0m\u001B[0;34m:\u001B[0m\u001B[0;34m\u001B[0m\u001B[0;34m\u001B[0m\u001B[0m\n\u001B[1;32m    534\u001B[0m             \u001B[0mhook_result\u001B[0m \u001B[0;34m=\u001B[0m \u001B[0mhook\u001B[0m\u001B[0;34m(\u001B[0m\u001B[0mself\u001B[0m\u001B[0;34m,\u001B[0m \u001B[0minput\u001B[0m\u001B[0;34m,\u001B[0m \u001B[0mresult\u001B[0m\u001B[0;34m)\u001B[0m\u001B[0;34m\u001B[0m\u001B[0;34m\u001B[0m\u001B[0m\n",
      "\u001B[0;32m~/jupyter_base/pycharm_001/model/gcn.py\u001B[0m in \u001B[0;36mforward\u001B[0;34m(self, g, h)\u001B[0m\n\u001B[1;32m     56\u001B[0m \u001B[0;34m\u001B[0m\u001B[0m\n\u001B[1;32m     57\u001B[0m     \u001B[0;32mdef\u001B[0m \u001B[0mforward\u001B[0m\u001B[0;34m(\u001B[0m\u001B[0mself\u001B[0m\u001B[0;34m,\u001B[0m \u001B[0mg\u001B[0m\u001B[0;34m,\u001B[0m \u001B[0mh\u001B[0m\u001B[0;34m)\u001B[0m\u001B[0;34m:\u001B[0m\u001B[0;34m\u001B[0m\u001B[0;34m\u001B[0m\u001B[0m\n\u001B[0;32m---> 58\u001B[0;31m         \u001B[0;32mreturn\u001B[0m \u001B[0mself\u001B[0m\u001B[0;34m.\u001B[0m\u001B[0mrgcn\u001B[0m\u001B[0;34m.\u001B[0m\u001B[0mforward\u001B[0m\u001B[0;34m(\u001B[0m\u001B[0mg\u001B[0m\u001B[0;34m,\u001B[0m \u001B[0mh\u001B[0m\u001B[0;34m)\u001B[0m\u001B[0;34m\u001B[0m\u001B[0;34m\u001B[0m\u001B[0m\n\u001B[0m\u001B[1;32m     59\u001B[0m \u001B[0;34m\u001B[0m\u001B[0m\n\u001B[1;32m     60\u001B[0m     \u001B[0;32mdef\u001B[0m \u001B[0mregularization_loss\u001B[0m\u001B[0;34m(\u001B[0m\u001B[0mself\u001B[0m\u001B[0;34m,\u001B[0m \u001B[0membedding\u001B[0m\u001B[0;34m)\u001B[0m\u001B[0;34m:\u001B[0m\u001B[0;34m\u001B[0m\u001B[0;34m\u001B[0m\u001B[0m\n",
      "\u001B[0;32m~/jupyter_base/pycharm_001/HeterGCN/BaseHRGCN.py\u001B[0m in \u001B[0;36mforward\u001B[0;34m(self, g, h)\u001B[0m\n\u001B[1;32m     45\u001B[0m     \u001B[0;32mdef\u001B[0m \u001B[0mforward\u001B[0m\u001B[0;34m(\u001B[0m\u001B[0mself\u001B[0m\u001B[0;34m,\u001B[0m \u001B[0mg\u001B[0m\u001B[0;34m,\u001B[0m \u001B[0mh\u001B[0m\u001B[0;34m)\u001B[0m\u001B[0;34m:\u001B[0m\u001B[0;34m\u001B[0m\u001B[0;34m\u001B[0m\u001B[0m\n\u001B[1;32m     46\u001B[0m         \u001B[0;32mfor\u001B[0m \u001B[0mlayer\u001B[0m \u001B[0;32min\u001B[0m \u001B[0mself\u001B[0m\u001B[0;34m.\u001B[0m\u001B[0mlayers\u001B[0m\u001B[0;34m:\u001B[0m\u001B[0;34m\u001B[0m\u001B[0;34m\u001B[0m\u001B[0m\n\u001B[0;32m---> 47\u001B[0;31m             \u001B[0mh\u001B[0m \u001B[0;34m=\u001B[0m \u001B[0mlayer\u001B[0m\u001B[0;34m(\u001B[0m\u001B[0mg\u001B[0m\u001B[0;34m,\u001B[0m \u001B[0mh\u001B[0m\u001B[0;34m)\u001B[0m\u001B[0;34m\u001B[0m\u001B[0;34m\u001B[0m\u001B[0m\n\u001B[0m\u001B[1;32m     48\u001B[0m         \u001B[0;32mreturn\u001B[0m \u001B[0mh\u001B[0m\u001B[0;34m\u001B[0m\u001B[0;34m\u001B[0m\u001B[0m\n",
      "\u001B[0;32m~/.conda/envs/shaow/lib/python3.7/site-packages/torch/nn/modules/module.py\u001B[0m in \u001B[0;36m__call__\u001B[0;34m(self, *input, **kwargs)\u001B[0m\n\u001B[1;32m    530\u001B[0m             \u001B[0mresult\u001B[0m \u001B[0;34m=\u001B[0m \u001B[0mself\u001B[0m\u001B[0;34m.\u001B[0m\u001B[0m_slow_forward\u001B[0m\u001B[0;34m(\u001B[0m\u001B[0;34m*\u001B[0m\u001B[0minput\u001B[0m\u001B[0;34m,\u001B[0m \u001B[0;34m**\u001B[0m\u001B[0mkwargs\u001B[0m\u001B[0;34m)\u001B[0m\u001B[0;34m\u001B[0m\u001B[0;34m\u001B[0m\u001B[0m\n\u001B[1;32m    531\u001B[0m         \u001B[0;32melse\u001B[0m\u001B[0;34m:\u001B[0m\u001B[0;34m\u001B[0m\u001B[0;34m\u001B[0m\u001B[0m\n\u001B[0;32m--> 532\u001B[0;31m             \u001B[0mresult\u001B[0m \u001B[0;34m=\u001B[0m \u001B[0mself\u001B[0m\u001B[0;34m.\u001B[0m\u001B[0mforward\u001B[0m\u001B[0;34m(\u001B[0m\u001B[0;34m*\u001B[0m\u001B[0minput\u001B[0m\u001B[0;34m,\u001B[0m \u001B[0;34m**\u001B[0m\u001B[0mkwargs\u001B[0m\u001B[0;34m)\u001B[0m\u001B[0;34m\u001B[0m\u001B[0;34m\u001B[0m\u001B[0m\n\u001B[0m\u001B[1;32m    533\u001B[0m         \u001B[0;32mfor\u001B[0m \u001B[0mhook\u001B[0m \u001B[0;32min\u001B[0m \u001B[0mself\u001B[0m\u001B[0;34m.\u001B[0m\u001B[0m_forward_hooks\u001B[0m\u001B[0;34m.\u001B[0m\u001B[0mvalues\u001B[0m\u001B[0;34m(\u001B[0m\u001B[0;34m)\u001B[0m\u001B[0;34m:\u001B[0m\u001B[0;34m\u001B[0m\u001B[0;34m\u001B[0m\u001B[0m\n\u001B[1;32m    534\u001B[0m             \u001B[0mhook_result\u001B[0m \u001B[0;34m=\u001B[0m \u001B[0mhook\u001B[0m\u001B[0;34m(\u001B[0m\u001B[0mself\u001B[0m\u001B[0;34m,\u001B[0m \u001B[0minput\u001B[0m\u001B[0;34m,\u001B[0m \u001B[0mresult\u001B[0m\u001B[0;34m)\u001B[0m\u001B[0;34m\u001B[0m\u001B[0;34m\u001B[0m\u001B[0m\n",
      "\u001B[0;32m~/jupyter_base/pycharm_001/HeterGCN/heterrelgraphconv.py\u001B[0m in \u001B[0;36mforward\u001B[0;34m(self, g, x)\u001B[0m\n\u001B[1;32m    115\u001B[0m         \u001B[0;31m# message passing\u001B[0m\u001B[0;34m\u001B[0m\u001B[0;34m\u001B[0m\u001B[0;34m\u001B[0m\u001B[0m\n\u001B[1;32m    116\u001B[0m         \u001B[0;32mfor\u001B[0m \u001B[0mi\u001B[0m \u001B[0;32min\u001B[0m \u001B[0mg\u001B[0m\u001B[0;34m.\u001B[0m\u001B[0metypes\u001B[0m\u001B[0;34m:\u001B[0m\u001B[0;34m\u001B[0m\u001B[0;34m\u001B[0m\u001B[0m\n\u001B[0;32m--> 117\u001B[0;31m             \u001B[0mg\u001B[0m\u001B[0;34m.\u001B[0m\u001B[0mupdate_all\u001B[0m\u001B[0;34m(\u001B[0m\u001B[0mself\u001B[0m\u001B[0;34m.\u001B[0m\u001B[0mmessage_func\u001B[0m\u001B[0;34m,\u001B[0m \u001B[0mfn\u001B[0m\u001B[0;34m.\u001B[0m\u001B[0msum\u001B[0m\u001B[0;34m(\u001B[0m\u001B[0mmsg\u001B[0m\u001B[0;34m=\u001B[0m\u001B[0;34m'msg'\u001B[0m\u001B[0;34m,\u001B[0m \u001B[0mout\u001B[0m\u001B[0;34m=\u001B[0m\u001B[0;34m'h'\u001B[0m\u001B[0;34m)\u001B[0m\u001B[0;34m,\u001B[0m \u001B[0metype\u001B[0m \u001B[0;34m=\u001B[0m \u001B[0mi\u001B[0m\u001B[0;34m)\u001B[0m\u001B[0;34m\u001B[0m\u001B[0;34m\u001B[0m\u001B[0m\n\u001B[0m\u001B[1;32m    118\u001B[0m         \u001B[0;31m# apply bias and activation\u001B[0m\u001B[0;34m\u001B[0m\u001B[0;34m\u001B[0m\u001B[0;34m\u001B[0m\u001B[0m\n\u001B[1;32m    119\u001B[0m         \u001B[0mnode_repr\u001B[0m \u001B[0;34m=\u001B[0m \u001B[0mg\u001B[0m\u001B[0;34m.\u001B[0m\u001B[0mnodes\u001B[0m\u001B[0;34m[\u001B[0m\u001B[0;34m'n'\u001B[0m\u001B[0;34m]\u001B[0m\u001B[0;34m.\u001B[0m\u001B[0mdata\u001B[0m\u001B[0;34m[\u001B[0m\u001B[0;34m'h'\u001B[0m\u001B[0;34m]\u001B[0m\u001B[0;34m\u001B[0m\u001B[0;34m\u001B[0m\u001B[0m\n",
      "\u001B[0;32m~/.conda/envs/shaow/lib/python3.7/site-packages/dgl/heterograph.py\u001B[0m in \u001B[0;36mupdate_all\u001B[0;34m(self, message_func, reduce_func, apply_node_func, etype)\u001B[0m\n\u001B[1;32m   3194\u001B[0m                                           \u001B[0mmessage_func\u001B[0m\u001B[0;34m,\u001B[0m \u001B[0mreduce_func\u001B[0m\u001B[0;34m,\u001B[0m\u001B[0;34m\u001B[0m\u001B[0;34m\u001B[0m\u001B[0m\n\u001B[1;32m   3195\u001B[0m                                           apply_node_func)\n\u001B[0;32m-> 3196\u001B[0;31m             \u001B[0mRuntime\u001B[0m\u001B[0;34m.\u001B[0m\u001B[0mrun\u001B[0m\u001B[0;34m(\u001B[0m\u001B[0mprog\u001B[0m\u001B[0;34m)\u001B[0m\u001B[0;34m\u001B[0m\u001B[0;34m\u001B[0m\u001B[0m\n\u001B[0m\u001B[1;32m   3197\u001B[0m \u001B[0;34m\u001B[0m\u001B[0m\n\u001B[1;32m   3198\u001B[0m     \u001B[0;32mdef\u001B[0m \u001B[0mmulti_update_all\u001B[0m\u001B[0;34m(\u001B[0m\u001B[0mself\u001B[0m\u001B[0;34m,\u001B[0m \u001B[0metype_dict\u001B[0m\u001B[0;34m,\u001B[0m \u001B[0mcross_reducer\u001B[0m\u001B[0;34m,\u001B[0m \u001B[0mapply_node_func\u001B[0m\u001B[0;34m=\u001B[0m\u001B[0;32mNone\u001B[0m\u001B[0;34m)\u001B[0m\u001B[0;34m:\u001B[0m\u001B[0;34m\u001B[0m\u001B[0;34m\u001B[0m\u001B[0m\n",
      "\u001B[0;32m~/.conda/envs/shaow/lib/python3.7/site-packages/dgl/runtime/runtime.py\u001B[0m in \u001B[0;36mrun\u001B[0;34m(prog)\u001B[0m\n\u001B[1;32m      9\u001B[0m         \u001B[0;32mfor\u001B[0m \u001B[0mexe\u001B[0m \u001B[0;32min\u001B[0m \u001B[0mprog\u001B[0m\u001B[0;34m.\u001B[0m\u001B[0mexecs\u001B[0m\u001B[0;34m:\u001B[0m\u001B[0;34m\u001B[0m\u001B[0;34m\u001B[0m\u001B[0m\n\u001B[1;32m     10\u001B[0m             \u001B[0;31m# prog.pprint_exe(exe)\u001B[0m\u001B[0;34m\u001B[0m\u001B[0;34m\u001B[0m\u001B[0;34m\u001B[0m\u001B[0m\n\u001B[0;32m---> 11\u001B[0;31m             \u001B[0mexe\u001B[0m\u001B[0;34m.\u001B[0m\u001B[0mrun\u001B[0m\u001B[0;34m(\u001B[0m\u001B[0;34m)\u001B[0m\u001B[0;34m\u001B[0m\u001B[0;34m\u001B[0m\u001B[0m\n\u001B[0m",
      "\u001B[0;32m~/.conda/envs/shaow/lib/python3.7/site-packages/dgl/runtime/ir/executor.py\u001B[0m in \u001B[0;36mrun\u001B[0;34m(self)\u001B[0m\n\u001B[1;32m    202\u001B[0m         \u001B[0medge_data\u001B[0m \u001B[0;34m=\u001B[0m \u001B[0mself\u001B[0m\u001B[0;34m.\u001B[0m\u001B[0mfdedge\u001B[0m\u001B[0;34m.\u001B[0m\u001B[0mdata\u001B[0m\u001B[0;34m\u001B[0m\u001B[0;34m\u001B[0m\u001B[0m\n\u001B[1;32m    203\u001B[0m         \u001B[0mdst_data\u001B[0m \u001B[0;34m=\u001B[0m \u001B[0mself\u001B[0m\u001B[0;34m.\u001B[0m\u001B[0mfddst\u001B[0m\u001B[0;34m.\u001B[0m\u001B[0mdata\u001B[0m\u001B[0;34m\u001B[0m\u001B[0;34m\u001B[0m\u001B[0m\n\u001B[0;32m--> 204\u001B[0;31m         \u001B[0mudf_ret\u001B[0m \u001B[0;34m=\u001B[0m \u001B[0mfn_data\u001B[0m\u001B[0;34m(\u001B[0m\u001B[0msrc_data\u001B[0m\u001B[0;34m,\u001B[0m \u001B[0medge_data\u001B[0m\u001B[0;34m,\u001B[0m \u001B[0mdst_data\u001B[0m\u001B[0;34m)\u001B[0m\u001B[0;34m\u001B[0m\u001B[0;34m\u001B[0m\u001B[0m\n\u001B[0m\u001B[1;32m    205\u001B[0m         \u001B[0mself\u001B[0m\u001B[0;34m.\u001B[0m\u001B[0mret\u001B[0m\u001B[0;34m.\u001B[0m\u001B[0mdata\u001B[0m \u001B[0;34m=\u001B[0m \u001B[0mFrameRef\u001B[0m\u001B[0;34m(\u001B[0m\u001B[0mFrame\u001B[0m\u001B[0;34m(\u001B[0m\u001B[0mudf_ret\u001B[0m\u001B[0;34m)\u001B[0m\u001B[0;34m)\u001B[0m\u001B[0;34m\u001B[0m\u001B[0;34m\u001B[0m\u001B[0m\n\u001B[1;32m    206\u001B[0m \u001B[0;34m\u001B[0m\u001B[0m\n",
      "\u001B[0;32m~/.conda/envs/shaow/lib/python3.7/site-packages/dgl/runtime/scheduler.py\u001B[0m in \u001B[0;36m_mfunc_wrapper\u001B[0;34m(src_data, edge_data, dst_data)\u001B[0m\n\u001B[1;32m    947\u001B[0m         ebatch = EdgeBatch((u.data, v.data, eid.data),\n\u001B[1;32m    948\u001B[0m                            src_data, edge_data, dst_data)\n\u001B[0;32m--> 949\u001B[0;31m         \u001B[0;32mreturn\u001B[0m \u001B[0mmfunc\u001B[0m\u001B[0;34m(\u001B[0m\u001B[0mebatch\u001B[0m\u001B[0;34m)\u001B[0m\u001B[0;34m\u001B[0m\u001B[0;34m\u001B[0m\u001B[0m\n\u001B[0m\u001B[1;32m    950\u001B[0m     \u001B[0m_mfunc_wrapper\u001B[0m \u001B[0;34m=\u001B[0m \u001B[0mvar\u001B[0m\u001B[0;34m.\u001B[0m\u001B[0mFUNC\u001B[0m\u001B[0;34m(\u001B[0m\u001B[0m_mfunc_wrapper\u001B[0m\u001B[0;34m)\u001B[0m\u001B[0;34m\u001B[0m\u001B[0;34m\u001B[0m\u001B[0m\n\u001B[1;32m    951\u001B[0m     \u001B[0mmsg\u001B[0m \u001B[0;34m=\u001B[0m \u001B[0mir\u001B[0m\u001B[0;34m.\u001B[0m\u001B[0mEDGE_UDF\u001B[0m\u001B[0;34m(\u001B[0m\u001B[0m_mfunc_wrapper\u001B[0m\u001B[0;34m,\u001B[0m \u001B[0mfdsrc\u001B[0m\u001B[0;34m,\u001B[0m \u001B[0mfdedge\u001B[0m\u001B[0;34m,\u001B[0m \u001B[0mfddst\u001B[0m\u001B[0;34m)\u001B[0m\u001B[0;34m\u001B[0m\u001B[0;34m\u001B[0m\u001B[0m\n",
      "\u001B[0;32m~/jupyter_base/pycharm_001/HeterGCN/heterrelgraphconv.py\u001B[0m in \u001B[0;36mbasis_message_func\u001B[0;34m(self, edges)\u001B[0m\n\u001B[1;32m     85\u001B[0m             \u001B[0mweight\u001B[0m \u001B[0;34m=\u001B[0m \u001B[0mself\u001B[0m\u001B[0;34m.\u001B[0m\u001B[0mweight\u001B[0m\u001B[0;34m\u001B[0m\u001B[0;34m\u001B[0m\u001B[0m\n\u001B[1;32m     86\u001B[0m \u001B[0;34m\u001B[0m\u001B[0m\n\u001B[0;32m---> 87\u001B[0;31m         \u001B[0mmsg\u001B[0m \u001B[0;34m=\u001B[0m \u001B[0mutils\u001B[0m\u001B[0;34m.\u001B[0m\u001B[0mbmm_maybe_select\u001B[0m\u001B[0;34m(\u001B[0m\u001B[0medges\u001B[0m\u001B[0;34m.\u001B[0m\u001B[0msrc\u001B[0m\u001B[0;34m[\u001B[0m\u001B[0;34m'h'\u001B[0m\u001B[0;34m]\u001B[0m\u001B[0;34m,\u001B[0m \u001B[0mweight\u001B[0m\u001B[0;34m,\u001B[0m \u001B[0medges\u001B[0m\u001B[0;34m.\u001B[0m\u001B[0mdata\u001B[0m\u001B[0;34m[\u001B[0m\u001B[0;34m'type'\u001B[0m\u001B[0;34m]\u001B[0m\u001B[0;34m)\u001B[0m\u001B[0;34m\u001B[0m\u001B[0;34m\u001B[0m\u001B[0m\n\u001B[0m\u001B[1;32m     88\u001B[0m         \u001B[0;32mif\u001B[0m \u001B[0;34m'norm'\u001B[0m \u001B[0;32min\u001B[0m \u001B[0medges\u001B[0m\u001B[0;34m.\u001B[0m\u001B[0mdata\u001B[0m\u001B[0;34m:\u001B[0m\u001B[0;34m\u001B[0m\u001B[0;34m\u001B[0m\u001B[0m\n\u001B[1;32m     89\u001B[0m             \u001B[0mmsg\u001B[0m \u001B[0;34m=\u001B[0m \u001B[0mmsg\u001B[0m \u001B[0;34m*\u001B[0m \u001B[0medges\u001B[0m\u001B[0;34m.\u001B[0m\u001B[0mdata\u001B[0m\u001B[0;34m[\u001B[0m\u001B[0;34m'norm'\u001B[0m\u001B[0;34m]\u001B[0m\u001B[0;34m\u001B[0m\u001B[0;34m\u001B[0m\u001B[0m\n",
      "\u001B[0;32m~/.conda/envs/shaow/lib/python3.7/site-packages/dgl/nn/pytorch/utils.py\u001B[0m in \u001B[0;36mbmm_maybe_select\u001B[0;34m(A, B, index)\u001B[0m\n\u001B[1;32m     88\u001B[0m         \u001B[0;32mreturn\u001B[0m \u001B[0mB\u001B[0m\u001B[0;34m.\u001B[0m\u001B[0mindex_select\u001B[0m\u001B[0;34m(\u001B[0m\u001B[0;36m0\u001B[0m\u001B[0;34m,\u001B[0m \u001B[0mflatidx\u001B[0m\u001B[0;34m)\u001B[0m\u001B[0;34m\u001B[0m\u001B[0;34m\u001B[0m\u001B[0m\n\u001B[1;32m     89\u001B[0m     \u001B[0;32melse\u001B[0m\u001B[0;34m:\u001B[0m\u001B[0;34m\u001B[0m\u001B[0;34m\u001B[0m\u001B[0m\n\u001B[0;32m---> 90\u001B[0;31m         \u001B[0mBB\u001B[0m \u001B[0;34m=\u001B[0m \u001B[0mB\u001B[0m\u001B[0;34m.\u001B[0m\u001B[0mindex_select\u001B[0m\u001B[0;34m(\u001B[0m\u001B[0;36m0\u001B[0m\u001B[0;34m,\u001B[0m \u001B[0mindex\u001B[0m\u001B[0;34m)\u001B[0m\u001B[0;34m\u001B[0m\u001B[0;34m\u001B[0m\u001B[0m\n\u001B[0m\u001B[1;32m     91\u001B[0m         \u001B[0;32mreturn\u001B[0m \u001B[0mth\u001B[0m\u001B[0;34m.\u001B[0m\u001B[0mbmm\u001B[0m\u001B[0;34m(\u001B[0m\u001B[0mA\u001B[0m\u001B[0;34m.\u001B[0m\u001B[0munsqueeze\u001B[0m\u001B[0;34m(\u001B[0m\u001B[0;36m1\u001B[0m\u001B[0;34m)\u001B[0m\u001B[0;34m,\u001B[0m \u001B[0mBB\u001B[0m\u001B[0;34m)\u001B[0m\u001B[0;34m.\u001B[0m\u001B[0msqueeze\u001B[0m\u001B[0;34m(\u001B[0m\u001B[0;34m)\u001B[0m\u001B[0;34m\u001B[0m\u001B[0;34m\u001B[0m\u001B[0m\n\u001B[1;32m     92\u001B[0m \u001B[0;34m\u001B[0m\u001B[0m\n",
      "\u001B[0;31mRuntimeError\u001B[0m: CUDA out of memory. Tried to allocate 2.01 GiB (GPU 0; 31.72 GiB total capacity; 29.46 GiB already allocated; 1.21 GiB free; 29.50 GiB reserved in total by PyTorch)"
     ]
    }
   ],
   "source": [
    "while True:\n",
    "    lp_model.train()\n",
    "    epoch += 1\n",
    "\n",
    "    # perform edge neighborhood sampling to generate training graph and data\n",
    "    # g, node_id, edge_type, node_norm, data, labels = \\\n",
    "    #     utils.generate_sampled_graph_and_labels(\n",
    "    #         train_data, args.graph_batch_size, args.graph_split_size,\n",
    "    #         num_rels, adj_list, degrees, args.negative_sample,\n",
    "    #         args.edge_sampler)\n",
    "    # print(\"Done edge sampling\")\n",
    "    sam_gb ,neg_sample, label = graph_base.negative_test_sampling_are()\n",
    "    g = sam_gb.get_whole_graph()\n",
    "    g = g.to(torch.device('cuda:0'))\n",
    "    # n_norm = sam_gb.comp_deg_norm()\n",
    "    # g = sam_gb.node_norm_to_edge_norm(torch.from_numpy(n_norm).view(-1, 1))\n",
    "    # set node/edge feature\n",
    "    # node_id = torch.from_numpy(node_id).view(-1, 1).long()\n",
    "    # edge_type = torch.from_numpy(edge_type)\n",
    "    # edge_norm = model.node_norm_to_edge_norm(g, torch.from_numpy(node_norm).view(-1, 1))\n",
    "    # data, labels = torch.from_numpy(data), torch.from_numpy(labels)\n",
    "    # deg = g.in_degrees(range(g.number_of_nodes())).float().view(-1, 1)\n",
    "    # if use_cuda:\n",
    "    #     node_id, deg = node_id.cuda(), deg.cuda()\n",
    "    #     edge_type, edge_norm = edge_type.cuda(), edge_norm.cuda()\n",
    "    #     data, labels = data.cuda(), labels.cuda()\n",
    "\n",
    "    t0 = time.time()\n",
    "    embed = lp_model(g, torch.LongTensor(range(sam_gb.node_count())).reshape((-1, 1)).cuda())\n",
    "    loss = lp_model.get_loss(g, embed, neg_sample, label)\n",
    "    t1 = time.time()\n",
    "    loss.backward()\n",
    "    torch.nn.utils.clip_grad_norm_(lp_model.parameters(), grade_norm) # clip gradients\n",
    "    optimizer.step()\n",
    "    t2 = time.time()\n",
    "\n",
    "    forward_time.append(t1 - t0)\n",
    "    backward_time.append(t2 - t1)\n",
    "    print(\"Epoch {:04d} | Loss {:.4f} | Best MRR {:.4f} | Forward {:.4f}s | Backward {:.4f}s\".\n",
    "          format(epoch, loss.item(), best_mrr, forward_time[-1], backward_time[-1]))\n",
    "\n",
    "    optimizer.zero_grad()\n",
    "\n",
    "    # # validation\n",
    "    # if epoch % 5 == 0:\n",
    "    #     # perform validation on CPU because full graph is too large\n",
    "    #     if use_cuda:\n",
    "    #         model.cpu()\n",
    "    #     model.eval()\n",
    "    #     print(\"start eval\")\n",
    "    #     embed = model(test_graph, test_node_id, test_rel, test_norm)\n",
    "    #     mrr = utils.calc_mrr(embed, model.w_relation, valid_data,\n",
    "    #                          hits=[1, 3, 10], eval_bz=args.eval_batch_size)\n",
    "    #     # save best model\n",
    "    #     if mrr < best_mrr:\n",
    "    #         if epoch >= args.n_epochs:\n",
    "    #             break\n",
    "    #     else:\n",
    "    #         best_mrr = mrr\n",
    "    #         torch.save({'state_dict': model.state_dict(), 'epoch': epoch},\n",
    "    #                    model_state_file)\n",
    "    #     if use_cuda:\n",
    "    #         model.cuda()\n",
    "\n",
    "print(\"training done\")\n",
    "print(\"Mean forward time: {:4f}s\".format(np.mean(forward_time)))\n",
    "print(\"Mean Backward time: {:4f}s\".format(np.mean(backward_time)))\n",
    "\n",
    "print(\"\\nstart testing:\")\n",
    "# use best model checkpoint\n",
    "checkpoint = torch.load(model_state_file)\n",
    "\n",
    "\n"
   ],
   "metadata": {
    "collapsed": false,
    "pycharm": {
     "name": "#%%\n"
    }
   }
  },
  {
   "cell_type": "code",
   "execution_count": 14,
   "outputs": [
    {
     "name": "stdout",
     "output_type": "stream",
     "text": [
      "Graph(num_nodes={'n': 53378},\n",
      "      num_edges={('n', 'upon', 'n'): 320, ('n', 'contain', 'n'): 16467, ('n', 'a_include', 'n'): 0, ('n', 'b_include', 'n'): 8233, ('n', 'use', 'n'): 75516},\n",
      "      metagraph=[('n', 'n'), ('n', 'n'), ('n', 'n'), ('n', 'n'), ('n', 'n')])\n"
     ]
    }
   ],
   "source": [
    "print(g)"
   ],
   "metadata": {
    "collapsed": false,
    "pycharm": {
     "name": "#%%\n"
    }
   }
  },
  {
   "cell_type": "code",
   "execution_count": null,
   "outputs": [],
   "source": [
    "\n"
   ],
   "metadata": {
    "collapsed": false,
    "pycharm": {
     "name": "#%%\n",
     "is_executing": false
    }
   }
  }
 ],
 "metadata": {
  "kernelspec": {
   "name": "python3",
   "language": "python",
   "display_name": "Python 3"
  },
  "language_info": {
   "codemirror_mode": {
    "name": "ipython",
    "version": 2
   },
   "file_extension": ".py",
   "mimetype": "text/x-python",
   "name": "python",
   "nbconvert_exporter": "python",
   "pygments_lexer": "ipython2",
   "version": "2.7.6"
  }
 },
 "nbformat": 4,
 "nbformat_minor": 0
}